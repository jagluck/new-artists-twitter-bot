{
 "cells": [
  {
   "cell_type": "code",
   "execution_count": 61,
   "metadata": {},
   "outputs": [],
   "source": [
    "import requests as requests\n",
    "import json\n",
    "import datetime\n",
    "from datetime import date\n",
    "\n",
    "keys={}\n",
    "with open(\"/Users/jagluck/Documents/GitHub/new-artists-twitter-bot/keys.json\",\"r\") as f:\n",
    "    keys = json.loads(f.read())\n",
    "    \n",
    "# Consumer keys and access tokens, used for OAuth\n",
    "songkick_api_key = keys['songkick_api_key']\n",
    "dc_metro_id = \"1409\""
   ]
  },
  {
   "cell_type": "code",
   "execution_count": 98,
   "metadata": {},
   "outputs": [],
   "source": [
    "def getArtistId(artist):\n",
    "    url = \"https://api.songkick.com/api/3.0/search/artists.json\"\n",
    "    params = {'apikey': songkick_api_key, \"query\" : artist}\n",
    "    resp = requests.get(url, params=params) \n",
    "    return resp.text\n",
    "\n",
    "def getUpcomingShows(minDate,MaxDate,page):\n",
    "    url = \"https://api.songkick.com/api/3.0/metro_areas/\" + dc_metro_id + \"/calendar.json\"\n",
    "    params = {'apikey': songkick_api_key, \"min_date\" : minDate, \"max_date\" : maxDate, \"page\" : page, \"per_page\" : 50}\n",
    "    resp = requests.get(url, params=params) \n",
    "    return resp.text\n",
    "\n",
    "\n",
    "# , \"page\" : page, \"per_page\" : 50 \"min_date\" : minDate, \"max_date\" : maxDate"
   ]
  },
  {
   "cell_type": "code",
   "execution_count": 101,
   "metadata": {},
   "outputs": [
    {
     "name": "stdout",
     "output_type": "stream",
     "text": [
      "{\"resultsPage\":{\"status\":\"ok\",\"results\":{},\"perPage\":50,\"page\":6,\"totalEntries\":201}}\n"
     ]
    }
   ],
   "source": [
    "\n",
    "\n",
    "page = 1\n",
    "minDate = str(date.today())\n",
    "maxDate = str(date.today() + datetime.timedelta(7))\n",
    "resp = getUpcomingShows(minDate,maxDate, page)\n",
    "\n",
    "while (resp['resultsPage']['results'] != {}):\n",
    "    print(\"page\")\n",
    "    page = page + 1\n",
    "    resp = getUpcomingShows(minDate,maxDate, page)"
   ]
  },
  {
   "cell_type": "code",
   "execution_count": 97,
   "metadata": {},
   "outputs": [],
   "source": [
    "artist = \"blink 182\"\n",
    "resp = getArtistKey(artist)"
   ]
  },
  {
   "cell_type": "code",
   "execution_count": 117,
   "metadata": {},
   "outputs": [],
   "source": [
    "page = 1\n",
    "minDate = str(date.today())\n",
    "maxDate = str(date.today() + datetime.timedelta(7))\n",
    "resp = json.loads(getUpcomingShows(minDate,maxDate,page))\n",
    "events = resp['resultsPage']['results']['event']"
   ]
  },
  {
   "cell_type": "code",
   "execution_count": 120,
   "metadata": {},
   "outputs": [
    {
     "name": "stdout",
     "output_type": "stream",
     "text": [
      "{'id': 38348814, 'displayName': 'We Will Rock You at The Theater at MGM National Harbor (November 12, 2019)', 'type': 'Concert', 'uri': 'http://www.songkick.com/concerts/38348814-we-will-rock-you-at-theater-at-mgm-national-harbor?utm_source=59162&utm_medium=partner', 'status': 'ok', 'popularity': 0.000446, 'start': {'date': '2019-11-12', 'datetime': '2019-11-12T20:00:00-0500', 'time': '20:00:00'}, 'performance': [{'id': 72751154, 'displayName': 'We Will Rock You', 'billing': 'headline', 'billingIndex': 1, 'artist': {'id': 2765716, 'displayName': 'We Will Rock You', 'uri': 'http://www.songkick.com/artists/2765716-we-will-rock-you?utm_source=59162&utm_medium=partner', 'identifier': []}}], 'ageRestriction': None, 'flaggedAsEnded': False, 'venue': {'id': 3424299, 'displayName': 'The Theater at MGM National Harbor', 'uri': 'http://www.songkick.com/venues/3424299-theater-at-mgm-national-harbor?utm_source=59162&utm_medium=partner', 'metroArea': {'displayName': 'Washington', 'country': {'displayName': 'US'}, 'state': {'displayName': 'DC'}, 'id': 1409, 'uri': 'http://www.songkick.com/metro_areas/1409-us-washington?utm_source=59162&utm_medium=partner'}, 'lat': 38.795, 'lng': -77.00931}, 'location': {'city': 'National Harbor, MD, US', 'lat': 38.795, 'lng': -77.00931}}\n",
      "{'id': 38432574, 'displayName': 'John Hiatt at Birchmere (November 12, 2019)', 'type': 'Concert', 'uri': 'http://www.songkick.com/concerts/38432574-john-hiatt-at-birchmere?utm_source=59162&utm_medium=partner', 'status': 'ok', 'popularity': 0.020172, 'start': {'date': '2019-11-12', 'datetime': '2019-11-12T19:30:00-0500', 'time': '19:30:00'}, 'performance': [{'id': 72893234, 'displayName': 'John Hiatt', 'billing': 'headline', 'billingIndex': 1, 'artist': {'id': 180083, 'displayName': 'John Hiatt', 'uri': 'http://www.songkick.com/artists/180083-john-hiatt?utm_source=59162&utm_medium=partner', 'identifier': [{'mbid': 'e78202c9-7717-435c-9aac-dd5ebc4e64d5', 'href': 'http://api.songkick.com/api/3.0/artists/mbid:e78202c9-7717-435c-9aac-dd5ebc4e64d5.json'}, {'mbid': '7582d300-8c6b-446f-a469-6420ea1cbe29', 'href': 'http://api.songkick.com/api/3.0/artists/mbid:7582d300-8c6b-446f-a469-6420ea1cbe29.json'}]}}], 'ageRestriction': None, 'flaggedAsEnded': False, 'venue': {'id': 32723, 'displayName': 'Birchmere', 'uri': 'http://www.songkick.com/venues/32723-birchmere?utm_source=59162&utm_medium=partner', 'metroArea': {'displayName': 'Washington', 'country': {'displayName': 'US'}, 'state': {'displayName': 'DC'}, 'id': 1409, 'uri': 'http://www.songkick.com/metro_areas/1409-us-washington?utm_source=59162&utm_medium=partner'}, 'lat': 38.83986, 'lng': -77.06129}, 'location': {'city': 'Alexandria, VA, US', 'lat': 38.83986, 'lng': -77.06129}}\n"
     ]
    }
   ],
   "source": [
    "for event in events[0:2]:\n",
    "    print(event)\n",
    "    eventId = event['id']\n",
    "    eventType = event['type']\n",
    "    eventURL = event['uri']\n",
    "    date = event['start']['date']\n",
    "    venueId = event['venue']['id']\n",
    "    venueName = event['venue']['displayName']"
   ]
  },
  {
   "cell_type": "code",
   "execution_count": null,
   "metadata": {},
   "outputs": [],
   "source": []
  }
 ],
 "metadata": {
  "kernelspec": {
   "display_name": "Python 3",
   "language": "python",
   "name": "python3"
  },
  "language_info": {
   "codemirror_mode": {
    "name": "ipython",
    "version": 3
   },
   "file_extension": ".py",
   "mimetype": "text/x-python",
   "name": "python",
   "nbconvert_exporter": "python",
   "pygments_lexer": "ipython3",
   "version": "3.6.4"
  }
 },
 "nbformat": 4,
 "nbformat_minor": 2
}
