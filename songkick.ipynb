{
 "cells": [
  {
   "cell_type": "code",
   "execution_count": 61,
   "metadata": {},
   "outputs": [],
   "source": [
    "import requests as requests\n",
    "import json\n",
    "import datetime\n",
    "from datetime import date\n",
    "\n",
    "keys={}\n",
    "with open(\"/Users/jagluck/Documents/GitHub/new-artists-twitter-bot/keys.json\",\"r\") as f:\n",
    "    keys = json.loads(f.read())\n",
    "    \n",
    "# Consumer keys and access tokens, used for OAuth\n",
    "songkick_api_key = keys['songkick_api_key']\n",
    "dc_metro_id = \"1409\""
   ]
  },
  {
   "cell_type": "code",
   "execution_count": 125,
   "metadata": {},
   "outputs": [],
   "source": [
    "def getArtistId(artist):\n",
    "    url = \"https://api.songkick.com/api/3.0/search/artists.json\"\n",
    "    params = {'apikey': songkick_api_key, \"query\" : artist}\n",
    "    resp = requests.get(url, params=params) \n",
    "    return resp.text\n",
    "\n",
    "def getUpcomingShowsPage(minDate,MaxDate,page):\n",
    "    url = \"https://api.songkick.com/api/3.0/metro_areas/\" + dc_metro_id + \"/calendar.json\"\n",
    "    params = {'apikey': songkick_api_key, \"min_date\" : minDate, \"max_date\" : maxDate, \"page\" : page, \"per_page\" : 50}\n",
    "    resp = requests.get(url, params=params) \n",
    "    return resp.text\n",
    "\n",
    "def getUpcomingShows(daysAhead):\n",
    "    page = 1\n",
    "    minDate = str(date.today())\n",
    "    maxDate = str(date.today() + datetime.timedelta(daysAhead))\n",
    "    resp = getUpcomingShowsPage(minDate,maxDate, page)\n",
    "    \n",
    "    eventIds = []\n",
    "    eventTypes = []\n",
    "    eventUrls = []\n",
    "    dates = []\n",
    "    venueIds = []\n",
    "    venueNames = []\n",
    "    locationCities = []\n",
    "\n",
    "    for event in events:\n",
    "        eventIds.append(event['id']) \n",
    "        eventTypes.append(event['type'])\n",
    "        eventUrls.append(event['uri'])\n",
    "        dates.append(event['start']['date'])\n",
    "        venueIds.append(event['venue']['id'])\n",
    "        venueNames.append(event['venue']['displayName'])\n",
    "        locationCities.append(event['location']['city']) \n",
    "    \n",
    "    data = pd.DataFrame(\n",
    "            {\n",
    "                \"eventId\" : eventIds,\n",
    "                \"eventType\" : eventTypes,\n",
    "                \"eventUrl\" : eventUrls,\n",
    "                \"date\" : dates,\n",
    "                \"venueId\" : venueIds,\n",
    "                \"venueName\" : venueNames,\n",
    "                \"locationCity\" : locationCities\n",
    "            })\n",
    "    \n",
    "    return data"
   ]
  },
  {
   "cell_type": "code",
   "execution_count": 97,
   "metadata": {},
   "outputs": [],
   "source": [
    "artist = \"blink 182\"\n",
    "resp = getArtistKey(artist)"
   ]
  },
  {
   "cell_type": "code",
   "execution_count": 126,
   "metadata": {},
   "outputs": [
    {
     "ename": "NameError",
     "evalue": "name 'pd' is not defined",
     "output_type": "error",
     "traceback": [
      "\u001b[1;31m---------------------------------------------------------------------------\u001b[0m",
      "\u001b[1;31mNameError\u001b[0m                                 Traceback (most recent call last)",
      "\u001b[1;32m<ipython-input-126-b22444f71007>\u001b[0m in \u001b[0;36m<module>\u001b[1;34m()\u001b[0m\n\u001b[1;32m----> 1\u001b[1;33m \u001b[0mdata\u001b[0m \u001b[1;33m=\u001b[0m \u001b[0mgetUpcomingShows\u001b[0m\u001b[1;33m(\u001b[0m\u001b[1;36m7\u001b[0m\u001b[1;33m)\u001b[0m\u001b[1;33m\u001b[0m\u001b[0m\n\u001b[0m",
      "\u001b[1;32m<ipython-input-125-6b0e334d497c>\u001b[0m in \u001b[0;36mgetUpcomingShows\u001b[1;34m(daysAhead)\u001b[0m\n\u001b[0;32m     34\u001b[0m         \u001b[0mlocationCities\u001b[0m\u001b[1;33m.\u001b[0m\u001b[0mappend\u001b[0m\u001b[1;33m(\u001b[0m\u001b[0mevent\u001b[0m\u001b[1;33m[\u001b[0m\u001b[1;34m'location'\u001b[0m\u001b[1;33m]\u001b[0m\u001b[1;33m[\u001b[0m\u001b[1;34m'city'\u001b[0m\u001b[1;33m]\u001b[0m\u001b[1;33m)\u001b[0m\u001b[1;33m\u001b[0m\u001b[0m\n\u001b[0;32m     35\u001b[0m \u001b[1;33m\u001b[0m\u001b[0m\n\u001b[1;32m---> 36\u001b[1;33m     data = pd.DataFrame(\n\u001b[0m\u001b[0;32m     37\u001b[0m             {\n\u001b[0;32m     38\u001b[0m                 \u001b[1;34m\"eventId\"\u001b[0m \u001b[1;33m:\u001b[0m \u001b[0meventIds\u001b[0m\u001b[1;33m,\u001b[0m\u001b[1;33m\u001b[0m\u001b[0m\n",
      "\u001b[1;31mNameError\u001b[0m: name 'pd' is not defined"
     ]
    }
   ],
   "source": [
    "data = getUpcomingShows(7)"
   ]
  },
  {
   "cell_type": "code",
   "execution_count": null,
   "metadata": {},
   "outputs": [],
   "source": []
  }
 ],
 "metadata": {
  "kernelspec": {
   "display_name": "Python 3",
   "language": "python",
   "name": "python3"
  },
  "language_info": {
   "codemirror_mode": {
    "name": "ipython",
    "version": 3
   },
   "file_extension": ".py",
   "mimetype": "text/x-python",
   "name": "python",
   "nbconvert_exporter": "python",
   "pygments_lexer": "ipython3",
   "version": "3.6.4"
  }
 },
 "nbformat": 4,
 "nbformat_minor": 2
}
